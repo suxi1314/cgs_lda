{
 "cells": [
  {
   "cell_type": "code",
   "execution_count": 20,
   "metadata": {},
   "outputs": [],
   "source": [
    "# origin file :\n",
    "# first row: number of vertex, docs, words \n",
    "# second row: number of edges\n",
    "# the folloing row : first_id second_id ntoken\n",
    "# divide into four parts according to the first_id\n",
    "origin_file = 'doc_word_count'\n",
    "new_file = 'doc_word_count_4w'"
   ]
  },
  {
   "cell_type": "code",
   "execution_count": 21,
   "metadata": {},
   "outputs": [],
   "source": [
    "# double the origin file\n",
    "origin_list = []\n",
    "nvertex = 0\n",
    "nword = 0\n",
    "ndoc = 0\n",
    "nedge = 0\n",
    "with open(origin_file, 'r') as file:\n",
    "    first_line = file.readline().strip('\\n').split()\n",
    "    nvertex = int(first_line[0])\n",
    "    ndoc = int(first_line[1])\n",
    "    nword = int(first_line[2])\n",
    "    nedge = int(file.readline().strip('\\n'))\n",
    "    for line in file.readlines():\n",
    "        line_list = line.strip('\\n').split()\n",
    "        d = int(line_list[0])\n",
    "        w = int(line_list[1])\n",
    "        n = int(line_list[2])\n",
    "        origin_list.append([d,w,n])"
   ]
  },
  {
   "cell_type": "code",
   "execution_count": 22,
   "metadata": {},
   "outputs": [
    {
     "name": "stdout",
     "output_type": "stream",
     "text": [
      "10336\n",
      "10336\n",
      "353160\n"
     ]
    }
   ],
   "source": [
    "print(nvertex)\n",
    "print(nword+ndoc)\n",
    "print(nedge)"
   ]
  },
  {
   "cell_type": "code",
   "execution_count": 23,
   "metadata": {},
   "outputs": [],
   "source": [
    "#print(origin_list)"
   ]
  },
  {
   "cell_type": "code",
   "execution_count": 24,
   "metadata": {},
   "outputs": [],
   "source": [
    "temp_list = []\n",
    "for d,w,n in origin_list:\n",
    "    temp_list.append([d,w,n])\n",
    "for d,w,n in origin_list:\n",
    "    temp_list.append([w,d,n])\n",
    "#print(temp_list)"
   ]
  },
  {
   "cell_type": "code",
   "execution_count": 25,
   "metadata": {},
   "outputs": [],
   "source": [
    "new_list = []\n",
    "new_list = sorted(temp_list,  key = lambda x:(x[0], x[1]))\n",
    "#print(new_list)"
   ]
  },
  {
   "cell_type": "code",
   "execution_count": 26,
   "metadata": {},
   "outputs": [],
   "source": [
    "with open(new_file, 'w') as file:\n",
    "    file.write(str(nvertex)+' '+str(ndoc)+' '+str(nword)+ '\\n')\n",
    "    file.write(str(nedge*2)+'\\n')\n",
    "    for line in new_list:\n",
    "        row = str(line[0])+' '+str(line[1])+' '+str(line[2])+'\\n'\n",
    "        file.write(row)"
   ]
  },
  {
   "cell_type": "code",
   "execution_count": null,
   "metadata": {},
   "outputs": [],
   "source": []
  },
  {
   "cell_type": "code",
   "execution_count": null,
   "metadata": {},
   "outputs": [],
   "source": []
  }
 ],
 "metadata": {
  "kernelspec": {
   "display_name": "Python 3",
   "language": "python",
   "name": "python3"
  },
  "language_info": {
   "codemirror_mode": {
    "name": "ipython",
    "version": 3
   },
   "file_extension": ".py",
   "mimetype": "text/x-python",
   "name": "python",
   "nbconvert_exporter": "python",
   "pygments_lexer": "ipython3",
   "version": "3.6.5"
  }
 },
 "nbformat": 4,
 "nbformat_minor": 2
}
