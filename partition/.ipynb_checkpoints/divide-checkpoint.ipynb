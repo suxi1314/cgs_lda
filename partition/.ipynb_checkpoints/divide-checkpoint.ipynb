{
 "cells": [
  {
   "cell_type": "code",
   "execution_count": 8,
   "metadata": {},
   "outputs": [
    {
     "name": "stdout",
     "output_type": "stream",
     "text": [
      "['doc_word_count_4w_1', 'doc_word_count_4w_2', 'doc_word_count_4w_3', 'doc_word_count_4w_4']\n",
      "[[], [], [], []]\n"
     ]
    }
   ],
   "source": [
    "# this step success 'double'\n",
    "partition = 4\n",
    "origin_file = 'doc_word_count_4w'\n",
    "part_file =[]\n",
    "part_list =[]\n",
    "part_vertex =[]\n",
    "part_edge =[]\n",
    "for i in range(0,partition):\n",
    "    part_file.append(origin_file+'_'+str(i+1))\n",
    "    part_list.append([])\n",
    "    part_vertex.append(0)\n",
    "    part_edge.append(0)\n",
    "print(part_file)\n",
    "print(part_list)"
   ]
  },
  {
   "cell_type": "code",
   "execution_count": 9,
   "metadata": {},
   "outputs": [
    {
     "name": "stdout",
     "output_type": "stream",
     "text": [
      "10336\n",
      "6906\n",
      "3430\n",
      "706320\n"
     ]
    }
   ],
   "source": [
    "# read origin file to origin_list\n",
    "origin_list = []\n",
    "nvertex = 0\n",
    "nword = 0\n",
    "ndoc = 0\n",
    "nedge = 0\n",
    "with open(origin_file, 'r') as file:\n",
    "    first_line = file.readline().strip('\\n').split()\n",
    "    nvertex = int(first_line[0])\n",
    "    ndoc = int(first_line[1])\n",
    "    nword = int(first_line[2])\n",
    "    nedge = int(file.readline().strip('\\n'))\n",
    "    for line in file.readlines():\n",
    "        origin_list.append(line.strip('\\n').split())\n",
    "print(nvertex)\n",
    "print(nword)\n",
    "print(ndoc)\n",
    "print(nedge)\n",
    "# print(origin_list)"
   ]
  },
  {
   "cell_type": "code",
   "execution_count": 10,
   "metadata": {},
   "outputs": [
    {
     "name": "stdout",
     "output_type": "stream",
     "text": [
      "[2584, 2584, 2584, 2584]\n"
     ]
    }
   ],
   "source": [
    "# divide number of vertex in each file(in actually, it is the number of vertex in each worker)\n",
    "remain = nvertex % partition\n",
    "for i in range(0, remain):\n",
    "    part_vertex[i] = (nvertex/partition+1)\n",
    "for i in range(remain, partition):\n",
    "    part_vertex[i] = int(nvertex/partition)\n",
    "print(part_vertex)"
   ]
  },
  {
   "cell_type": "code",
   "execution_count": 11,
   "metadata": {},
   "outputs": [],
   "source": [
    "# divide origin_list to each list in part_list\n",
    "for line in origin_list:\n",
    "    index = int(line[0])%partition\n",
    "    part_list[index].append(line)"
   ]
  },
  {
   "cell_type": "code",
   "execution_count": 12,
   "metadata": {},
   "outputs": [],
   "source": [
    "#print(part_list)"
   ]
  },
  {
   "cell_type": "code",
   "execution_count": 13,
   "metadata": {},
   "outputs": [
    {
     "name": "stdout",
     "output_type": "stream",
     "text": [
      "[175221, 179958, 174622, 176519]\n"
     ]
    }
   ],
   "source": [
    "for i in range(0, partition):\n",
    "    part_edge[i] = len(part_list[i])\n",
    "print(part_edge)"
   ]
  },
  {
   "cell_type": "code",
   "execution_count": 14,
   "metadata": {},
   "outputs": [],
   "source": [
    "for i in range(0, partition):\n",
    "    with open(part_file[i], 'w') as file:\n",
    "        file.write(str(part_vertex[i])+' '+str(ndoc)+' '+str(nword)+ '\\n')\n",
    "        file.write(str(part_edge[i])+'\\n')\n",
    "        for line in part_list[i]:\n",
    "            row = line[0]+' '+line[1]+' '+line[2]+'\\n'\n",
    "            file.write(row)"
   ]
  },
  {
   "cell_type": "code",
   "execution_count": null,
   "metadata": {},
   "outputs": [],
   "source": []
  },
  {
   "cell_type": "code",
   "execution_count": null,
   "metadata": {},
   "outputs": [],
   "source": []
  },
  {
   "cell_type": "code",
   "execution_count": null,
   "metadata": {},
   "outputs": [],
   "source": []
  }
 ],
 "metadata": {
  "kernelspec": {
   "display_name": "Python 3",
   "language": "python",
   "name": "python3"
  },
  "language_info": {
   "codemirror_mode": {
    "name": "ipython",
    "version": 3
   },
   "file_extension": ".py",
   "mimetype": "text/x-python",
   "name": "python",
   "nbconvert_exporter": "python",
   "pygments_lexer": "ipython3",
   "version": "3.6.5"
  }
 },
 "nbformat": 4,
 "nbformat_minor": 2
}
